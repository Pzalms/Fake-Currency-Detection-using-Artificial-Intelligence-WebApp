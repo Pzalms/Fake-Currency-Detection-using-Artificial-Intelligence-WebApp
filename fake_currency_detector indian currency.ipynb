{
  "cells": [
    {
      "cell_type": "code",
      "execution_count": 2,
      "metadata": {
        "id": "KzENka7vHHN-"
      },
      "outputs": [],
      "source": [
        "# Make all the imports\n",
        "import tensorflow as tf\n",
        "import matplotlib.pyplot as plt\n",
        "import cv2\n",
        "import numpy as np\n",
        "import seaborn as sns\n",
        "from sklearn.metrics import f1_score\n",
        "from tensorflow.keras.preprocessing.image import ImageDataGenerator\n",
        "from tensorflow.keras.callbacks import ReduceLROnPlateau\n",
        "import pickle"
      ]
    },
    {
      "cell_type": "code",
      "execution_count": 3,
      "metadata": {
        "id": "wHSV3JE2HYsR"
      },
      "outputs": [],
      "source": [
        "# utility functions\n",
        "\n",
        "def process_jpg_image(img):\n",
        "  img = tf.convert_to_tensor(img[:,:,:3])\n",
        "  img = np.expand_dims(img, axis = 0)\n",
        "  img = tf.image.resize(img,[224,224])\n",
        "  img = (img/255.0)\n",
        "  return img\n",
        "\n",
        "def show_confusion_matrix(cm, labels):\n",
        "    '''\n",
        "    plots heatmap of confusion matrix'''\n",
        "    plt.figure(figsize=(15, 10))\n",
        "    sns.heatmap(cm, xticklabels=labels, yticklabels=labels, \n",
        "              annot=True, fmt='g')\n",
        "    plt.xlabel('Prediction')\n",
        "    plt.ylabel('Label')\n",
        "    plt.show()"
      ]
    },
    {
      "cell_type": "code",
      "execution_count": 5,
      "metadata": {
        "colab": {
          "base_uri": "https://localhost:8080/"
        },
        "id": "PVPDCOXUHb74",
        "outputId": "b9b9b4ef-ac2d-4021-f5e4-757401c5634c"
      },
      "outputs": [
        {
          "name": "stdout",
          "output_type": "stream",
          "text": [
            "Found 500 images belonging to 2 classes.\n",
            "Found 125 images belonging to 2 classes.\n"
          ]
        }
      ],
      "source": [
        "# Load all the images. training folder is split 20% as validation set and testing folder is loaded as test dataset.\n",
        "\n",
        "train_dir = r\"D:\\Machine_learning\\projects\\Velozity_systems\\fake_currency_detection\\dataset\"\n",
        "preprocess_input = tf.keras.applications.vgg16.preprocess_input\n",
        "TARGET_SIZE = 224\n",
        "BATCH_SIZE = 64\n",
        "\n",
        "\n",
        "train_datagen = ImageDataGenerator(validation_split=0.2,\n",
        "                                   rescale=1./255)\n",
        "\n",
        "\n",
        "train_generator = train_datagen.flow_from_directory(train_dir,\n",
        "                                                    batch_size=BATCH_SIZE,\n",
        "                                                    class_mode='categorical',\n",
        "                                                    subset=\"training\",\n",
        "                                                    shuffle = True,\n",
        "                                                    target_size=(TARGET_SIZE,TARGET_SIZE))\n",
        "\n",
        "validation_generator = train_datagen.flow_from_directory(train_dir,\n",
        "                                                    batch_size=BATCH_SIZE,\n",
        "                                                    class_mode='categorical',\n",
        "                                                    subset=\"validation\",\n",
        "                                                    shuffle = False,\n",
        "                                                    target_size=(TARGET_SIZE,TARGET_SIZE))\n"
      ]
    },
    {
      "cell_type": "code",
      "execution_count": 6,
      "metadata": {
        "colab": {
          "base_uri": "https://localhost:8080/"
        },
        "id": "G-LOPVtkHdvw",
        "outputId": "eb4f5bbd-518b-4865-9967-8ad4d3fc0689"
      },
      "outputs": [
        {
          "data": {
            "text/plain": [
              "{'fake': 0, 'real': 1}"
            ]
          },
          "execution_count": 6,
          "metadata": {},
          "output_type": "execute_result"
        }
      ],
      "source": [
        "# Print all the classes\n",
        "\n",
        "train_generator.class_indices"
      ]
    },
    {
      "cell_type": "code",
      "execution_count": 7,
      "metadata": {
        "colab": {
          "base_uri": "https://localhost:8080/"
        },
        "id": "LwVsjLdWHfWP",
        "outputId": "fc226ace-69be-44b7-fca1-747be122d629"
      },
      "outputs": [
        {
          "name": "stdout",
          "output_type": "stream",
          "text": [
            "(64, 224, 224, 3)\n",
            "(64, 2)\n"
          ]
        }
      ],
      "source": [
        "for image_batch, labels_batch in train_generator:\n",
        "  print(image_batch.shape)\n",
        "  print(labels_batch.shape)\n",
        "  break"
      ]
    },
    {
      "cell_type": "code",
      "execution_count": 8,
      "metadata": {
        "colab": {
          "base_uri": "https://localhost:8080/"
        },
        "id": "IXAJg1bhHhJP",
        "outputId": "f7823d4d-4fe9-497e-9569-cbca841faae0"
      },
      "outputs": [],
      "source": [
        "# Using a VGG model for training\n",
        "\n",
        "from tensorflow.keras.applications.vgg16 import VGG16\n",
        "\n",
        "\n",
        "base_model = VGG16(weights='imagenet', input_shape=(TARGET_SIZE, TARGET_SIZE, 3), include_top=False)\n",
        "base_model.trainable = False\n",
        "\n",
        "# Adding a model on top\n",
        "\n",
        "inputs = tf.keras.Input(shape=(TARGET_SIZE, TARGET_SIZE, 3))\n",
        "\n",
        "x = base_model.output\n",
        "x = tf.keras.layers.Dropout(0.25)(x)\n",
        "x = tf.keras.layers.GlobalAveragePooling2D()(x)\n",
        "x = tf.keras.layers.Dropout(0.25)(x)\n",
        "x = tf.keras.layers.Dense(16, activation='relu')(x)\n",
        "x = tf.keras.layers.Dropout(0.25)(x)\n",
        "output = tf.keras.layers.Dense(2, activation='softmax')(x)\n",
        "\n",
        "vgg = tf.keras.Model(inputs=base_model.input, outputs=output)\n"
      ]
    },
    {
      "cell_type": "code",
      "execution_count": 9,
      "metadata": {
        "colab": {
          "base_uri": "https://localhost:8080/"
        },
        "id": "HMynq5DfHjOo",
        "outputId": "081c0bcd-fb0c-4861-f36b-3af1c0f47f8a"
      },
      "outputs": [
        {
          "name": "stdout",
          "output_type": "stream",
          "text": [
            "Model: \"model\"\n",
            "_________________________________________________________________\n",
            " Layer (type)                Output Shape              Param #   \n",
            "=================================================================\n",
            " input_1 (InputLayer)        [(None, 224, 224, 3)]     0         \n",
            "                                                                 \n",
            " block1_conv1 (Conv2D)       (None, 224, 224, 64)      1792      \n",
            "                                                                 \n",
            " block1_conv2 (Conv2D)       (None, 224, 224, 64)      36928     \n",
            "                                                                 \n",
            " block1_pool (MaxPooling2D)  (None, 112, 112, 64)      0         \n",
            "                                                                 \n",
            " block2_conv1 (Conv2D)       (None, 112, 112, 128)     73856     \n",
            "                                                                 \n",
            " block2_conv2 (Conv2D)       (None, 112, 112, 128)     147584    \n",
            "                                                                 \n",
            " block2_pool (MaxPooling2D)  (None, 56, 56, 128)       0         \n",
            "                                                                 \n",
            " block3_conv1 (Conv2D)       (None, 56, 56, 256)       295168    \n",
            "                                                                 \n",
            " block3_conv2 (Conv2D)       (None, 56, 56, 256)       590080    \n",
            "                                                                 \n",
            " block3_conv3 (Conv2D)       (None, 56, 56, 256)       590080    \n",
            "                                                                 \n",
            " block3_pool (MaxPooling2D)  (None, 28, 28, 256)       0         \n",
            "                                                                 \n",
            " block4_conv1 (Conv2D)       (None, 28, 28, 512)       1180160   \n",
            "                                                                 \n",
            " block4_conv2 (Conv2D)       (None, 28, 28, 512)       2359808   \n",
            "                                                                 \n",
            " block4_conv3 (Conv2D)       (None, 28, 28, 512)       2359808   \n",
            "                                                                 \n",
            " block4_pool (MaxPooling2D)  (None, 14, 14, 512)       0         \n",
            "                                                                 \n",
            " block5_conv1 (Conv2D)       (None, 14, 14, 512)       2359808   \n",
            "                                                                 \n",
            " block5_conv2 (Conv2D)       (None, 14, 14, 512)       2359808   \n",
            "                                                                 \n",
            " block5_conv3 (Conv2D)       (None, 14, 14, 512)       2359808   \n",
            "                                                                 \n",
            " block5_pool (MaxPooling2D)  (None, 7, 7, 512)         0         \n",
            "                                                                 \n",
            " dropout (Dropout)           (None, 7, 7, 512)         0         \n",
            "                                                                 \n",
            " global_average_pooling2d (G  (None, 512)              0         \n",
            " lobalAveragePooling2D)                                          \n",
            "                                                                 \n",
            " dropout_1 (Dropout)         (None, 512)               0         \n",
            "                                                                 \n",
            " dense (Dense)               (None, 16)                8208      \n",
            "                                                                 \n",
            " dropout_2 (Dropout)         (None, 16)                0         \n",
            "                                                                 \n",
            " dense_1 (Dense)             (None, 2)                 34        \n",
            "                                                                 \n",
            "=================================================================\n",
            "Total params: 14,722,930\n",
            "Trainable params: 8,242\n",
            "Non-trainable params: 14,714,688\n",
            "_________________________________________________________________\n"
          ]
        }
      ],
      "source": [
        "vgg.summary()\n"
      ]
    },
    {
      "cell_type": "code",
      "execution_count": 10,
      "metadata": {
        "id": "a4LxMqhKHki0"
      },
      "outputs": [],
      "source": [
        "opt = tf.keras.optimizers.Adam()\n",
        "cce = tf.keras.losses.BinaryCrossentropy()\n",
        "vgg.compile(optimizer=opt, loss=cce, metrics= ['acc'])"
      ]
    },
    {
      "cell_type": "code",
      "execution_count": 11,
      "metadata": {
        "id": "OKBSSN4WHl8Z"
      },
      "outputs": [],
      "source": [
        "checkpoint_filepath = '/'\n",
        "model_checkpoint_callback = tf.keras.callbacks.ModelCheckpoint(\n",
        "    filepath=checkpoint_filepath,\n",
        "    save_weights_only=True,\n",
        "    monitor='val_accuracy',\n",
        "    mode='max',\n",
        "    save_best_only=True)\n",
        "\n",
        "reduce_lr = ReduceLROnPlateau(monitor='val_loss', factor=0.2,\n",
        "                              patience=5, min_lr=0.001)"
      ]
    },
    {
      "cell_type": "code",
      "execution_count": 12,
      "metadata": {
        "colab": {
          "base_uri": "https://localhost:8080/"
        },
        "id": "QYbufv99HnrG",
        "outputId": "23d43e73-f7b1-400a-ed37-637de433d30a"
      },
      "outputs": [
        {
          "name": "stdout",
          "output_type": "stream",
          "text": [
            "Epoch 1/50\n"
          ]
        },
        {
          "ename": "Error",
          "evalue": "Canceled future for execute_request message before replies were done",
          "output_type": "error",
          "traceback": [
            "Error: Canceled future for execute_request message before replies were done",
            "at t.KernelShellFutureHandler.dispose (c:\\Users\\kiran\\.vscode\\extensions\\ms-toolsai.jupyter-2022.3.1000901801\\out\\extension.js:2:1204175)",
            "at c:\\Users\\kiran\\.vscode\\extensions\\ms-toolsai.jupyter-2022.3.1000901801\\out\\extension.js:2:1223227",
            "at Map.forEach (<anonymous>)",
            "at v._clearKernelState (c:\\Users\\kiran\\.vscode\\extensions\\ms-toolsai.jupyter-2022.3.1000901801\\out\\extension.js:2:1223212)",
            "at v.dispose (c:\\Users\\kiran\\.vscode\\extensions\\ms-toolsai.jupyter-2022.3.1000901801\\out\\extension.js:2:1216694)",
            "at c:\\Users\\kiran\\.vscode\\extensions\\ms-toolsai.jupyter-2022.3.1000901801\\out\\extension.js:2:533674",
            "at t.swallowExceptions (c:\\Users\\kiran\\.vscode\\extensions\\ms-toolsai.jupyter-2022.3.1000901801\\out\\extension.js:2:913059)",
            "at dispose (c:\\Users\\kiran\\.vscode\\extensions\\ms-toolsai.jupyter-2022.3.1000901801\\out\\extension.js:2:533652)",
            "at t.RawSession.dispose (c:\\Users\\kiran\\.vscode\\extensions\\ms-toolsai.jupyter-2022.3.1000901801\\out\\extension.js:2:537330)",
            "at runMicrotasks (<anonymous>)",
            "at processTicksAndRejections (node:internal/process/task_queues:96:5)"
          ]
        }
      ],
      "source": [
        "EPOCHS = 50\n",
        "NUM_STEPS = train_generator.samples/BATCH_SIZE\n",
        "VAL_NUM_STEPS = validation_generator.samples/BATCH_SIZE\n",
        "model = vgg.fit(train_generator, epochs = EPOCHS, steps_per_epoch = NUM_STEPS, validation_steps = VAL_NUM_STEPS, validation_data = validation_generator, callbacks=[reduce_lr])"
      ]
    },
    {
      "cell_type": "code",
      "execution_count": 18,
      "metadata": {
        "colab": {
          "base_uri": "https://localhost:8080/"
        },
        "id": "ltt77vHoHpC1",
        "outputId": "d288c48c-f4a9-44d6-f6ca-4faf580bb603"
      },
      "outputs": [
        {
          "name": "stdout",
          "output_type": "stream",
          "text": [
            "INFO:tensorflow:Assets written to: ram://c0402ab7-8ae5-48ac-9ee9-ea0ac20bfc6c/assets\n"
          ]
        }
      ],
      "source": [
        "# Save the model to disk\n",
        "\n",
        "#vgg.save(\"vgg_model_2.h5\")\n",
        "pickle.dump(vgg, open('vgg-model2.pkl','wb'))"
      ]
    },
    {
      "cell_type": "code",
      "execution_count": 2,
      "metadata": {
        "colab": {
          "base_uri": "https://localhost:8080/",
          "height": 200
        },
        "id": "GVo9tM0EIAlq",
        "outputId": "2c3cb4c9-2ad3-4b66-a9da-3e2a844a281a"
      },
      "outputs": [
        {
          "ename": "NameError",
          "evalue": "ignored",
          "output_type": "error",
          "traceback": [
            "\u001b[0;31m---------------------------------------------------------------------------\u001b[0m",
            "\u001b[0;31mNameError\u001b[0m                                 Traceback (most recent call last)",
            "\u001b[0;32m<ipython-input-2-7d540f9a56d0>\u001b[0m in \u001b[0;36m<module>\u001b[0;34m()\u001b[0m\n\u001b[1;32m      1\u001b[0m \u001b[0mpick_insert\u001b[0m \u001b[0;34m=\u001b[0m \u001b[0mopen\u001b[0m\u001b[0;34m(\u001b[0m\u001b[0;34m'vgg.pickle'\u001b[0m\u001b[0;34m,\u001b[0m\u001b[0;34m'wb'\u001b[0m\u001b[0;34m)\u001b[0m\u001b[0;34m\u001b[0m\u001b[0;34m\u001b[0m\u001b[0m\n\u001b[0;32m----> 2\u001b[0;31m \u001b[0mpickle\u001b[0m\u001b[0;34m.\u001b[0m\u001b[0mdump\u001b[0m\u001b[0;34m(\u001b[0m\u001b[0mvgg\u001b[0m\u001b[0;34m,\u001b[0m \u001b[0mpick_insert\u001b[0m\u001b[0;34m)\u001b[0m\u001b[0;34m\u001b[0m\u001b[0;34m\u001b[0m\u001b[0m\n\u001b[0m\u001b[1;32m      3\u001b[0m \u001b[0mpick_insert\u001b[0m\u001b[0;34m.\u001b[0m\u001b[0mclose\u001b[0m\u001b[0;34m(\u001b[0m\u001b[0;34m)\u001b[0m\u001b[0;34m\u001b[0m\u001b[0;34m\u001b[0m\u001b[0m\n",
            "\u001b[0;31mNameError\u001b[0m: name 'pickle' is not defined"
          ]
        }
      ],
      "source": [
        "pick_insert = open('vgg.pickle','wb')\n",
        "pickle.dump(vgg, pick_insert)\n",
        "pick_insert.close()"
      ]
    },
    {
      "cell_type": "code",
      "execution_count": null,
      "metadata": {
        "id": "lZyoXVKYHqLq"
      },
      "outputs": [],
      "source": [
        "# Load the saved model from disk\n",
        "\n",
        "#vgg = tf.keras.models.load_model('vgg_model.h5')"
      ]
    },
    {
      "cell_type": "code",
      "execution_count": 19,
      "metadata": {
        "colab": {
          "base_uri": "https://localhost:8080/",
          "height": 499
        },
        "id": "67nWyDALHr1z",
        "outputId": "e1b9770a-55f4-492e-9dfa-93c8b14b8704"
      },
      "outputs": [
        {
          "data": {
            "image/png": "[encoded data removed]",
            "text/plain": [
              "<Figure size 1152x576 with 2 Axes>"
            ]
          },
          "metadata": {
            "needs_background": "light"
          },
          "output_type": "display_data"
        }
      ],
      "source": [
        "# Plot the training and validation accuracy and loss graphs\n",
        "\n",
        "acc = model.history['acc']\n",
        "val_acc = model.history['val_acc']\n",
        "\n",
        "loss = model.history['loss']\n",
        "val_loss = model.history['val_loss']\n",
        "\n",
        "epochs_range = range(EPOCHS)\n",
        "\n",
        "plt.figure(figsize=(16, 8))\n",
        "plt.subplot(1, 2, 1)\n",
        "plt.plot(epochs_range, acc, label='Training Accuracy')\n",
        "plt.plot(epochs_range, val_acc, label='Validation Accuracy')\n",
        "plt.legend(loc='lower right')\n",
        "plt.title('Training and Validation Accuracy')\n",
        "\n",
        "plt.subplot(1, 2, 2)\n",
        "plt.plot(epochs_range, loss, label='Training Loss')\n",
        "plt.plot(epochs_range, val_loss, label='Validation Loss')\n",
        "plt.legend(loc='upper right')\n",
        "plt.title('Training and Validation Loss')\n",
        "plt.show()"
      ]
    },
    {
      "cell_type": "markdown",
      "metadata": {
        "id": "wu26GalyHvLk"
      },
      "source": [
        "## Testing the model with a sample image from the test dataset"
      ]
    },
    {
      "cell_type": "code",
      "execution_count": 36,
      "metadata": {
        "colab": {
          "base_uri": "https://localhost:8080/"
        },
        "id": "YpFZId3agkTi",
        "outputId": "9a4df1d5-f3b6-40f0-c524-7d4212d73052"
      },
      "outputs": [
        {
          "name": "stdout",
          "output_type": "stream",
          "text": [
            "[('fake', 0), ('real', 1)]\n"
          ]
        }
      ],
      "source": [
        "class_names = list(train_generator.class_indices.items())\n",
        "print(class_names)"
      ]
    },
    {
      "cell_type": "code",
      "execution_count": 21,
      "metadata": {
        "id": "EpopPYq6HxWC"
      },
      "outputs": [],
      "source": [
        "test_image_path = \"/data/dataset/fake/10 rupees Images_ Stock Photos....jpg\""
      ]
    },
    {
      "cell_type": "code",
      "execution_count": 37,
      "metadata": {
        "colab": {
          "base_uri": "https://localhost:8080/"
        },
        "id": "yPsNjcGyHypD",
        "outputId": "2788b70e-6ea9-48d8-c9a8-93c05eea9115"
      },
      "outputs": [
        {
          "name": "stdout",
          "output_type": "stream",
          "text": [
            "dimensions of image used for prediction is:  (1, 224, 224, 3)\n",
            "prediction is:  fake\n"
          ]
        }
      ],
      "source": [
        "test_image_read_1 = cv2.imread(test_image_path)\n",
        "test_image_1 = process_jpg_image(test_image_read_1)\n",
        "prediction_1 = vgg.predict(test_image_1)\n",
        "print(f'dimensions of image used for prediction is: ',test_image_1.shape)\n",
        "\n",
        "prediction = int(np.argmax(prediction_1))\n",
        "print(f\"prediction is: \", class_names[prediction][0])"
      ]
    },
    {
      "cell_type": "markdown",
      "metadata": {
        "id": "VjEQT1HLH0Yp"
      },
      "source": [
        "## Predicting all the images in the test dataset and plotting a confusion matrix"
      ]
    },
    {
      "cell_type": "code",
      "execution_count": 23,
      "metadata": {
        "id": "aJXMx3ehH1pl"
      },
      "outputs": [],
      "source": [
        "# Get the labels of all the images\n",
        "true_labels = validation_generator.labels\n",
        "# Making the predictions of all the validation images\n",
        "all_predictions = vgg.predict(validation_generator)"
      ]
    },
    {
      "cell_type": "code",
      "execution_count": 24,
      "metadata": {
        "id": "j2azpH1_H2vK"
      },
      "outputs": [],
      "source": [
        "preds = []\n",
        "for items in all_predictions:\n",
        "    preds.append(np.argmax(items))\n",
        "    "
      ]
    },
    {
      "cell_type": "code",
      "execution_count": 29,
      "metadata": {
        "colab": {
          "base_uri": "https://localhost:8080/",
          "height": 610
        },
        "id": "hFVB3fauH3v6",
        "outputId": "e0573282-8696-4453-9209-2b93384a6f24"
      },
      "outputs": [
        {
          "data": {
            "image/png": "[encoded data removed]",
            "text/plain": [
              "<Figure size 1080x720 with 2 Axes>"
            ]
          },
          "metadata": {
            "needs_background": "light"
          },
          "output_type": "display_data"
        }
      ],
      "source": [
        "# plot the confusion matrix\n",
        "\n",
        "confusion_mat = tf.math.confusion_matrix(\n",
        "    true_labels, preds, dtype=tf.dtypes.int32)\n",
        "\n",
        "show_confusion_matrix(confusion_mat, class_names)"
      ]
    },
    {
      "cell_type": "code",
      "execution_count": 26,
      "metadata": {
        "colab": {
          "base_uri": "https://localhost:8080/"
        },
        "id": "7DKKyS2CH5Ny",
        "outputId": "ce554f3c-7172-4ed1-f0b3-c5874e4be895"
      },
      "outputs": [
        {
          "name": "stdout",
          "output_type": "stream",
          "text": [
            "F1 score of the model is 0.9597372742200329\n"
          ]
        }
      ],
      "source": [
        "f1 = f1_score(true_labels, preds, average='weighted')\n",
        "print(f\"F1 score of the model is\", f1)"
      ]
    },
    {
      "cell_type": "code",
      "execution_count": 35,
      "metadata": {
        "colab": {
          "base_uri": "https://localhost:8080/"
        },
        "id": "mHgW8fBufpGF",
        "outputId": "ecdb0b57-442d-4bfd-8bc6-a4bbc54b11fb"
      },
      "outputs": [
        {
          "name": "stdout",
          "output_type": "stream",
          "text": [
            "absl-py==1.0.0\n",
            "alabaster==0.7.12\n",
            "albumentations==0.1.12\n",
            "altair==4.2.0\n",
            "appdirs==1.4.4\n",
            "argon2-cffi==21.3.0\n",
            "argon2-cffi-bindings==21.2.0\n",
            "arviz==0.12.0\n",
            "astor==0.8.1\n",
            "astropy==4.3.1\n",
            "astunparse==1.6.3\n",
            "atari-py==0.2.9\n",
            "atomicwrites==1.4.0\n",
            "attrs==21.4.0\n",
            "audioread==2.1.9\n",
            "autograd==1.4\n",
            "Babel==2.9.1\n",
            "backcall==0.2.0\n",
            "beautifulsoup4==4.6.3\n",
            "bleach==5.0.0\n",
            "blis==0.4.1\n",
            "bokeh==2.3.3\n",
            "Bottleneck==1.3.4\n",
            "branca==0.4.2\n",
            "bs4==0.0.1\n",
            "CacheControl==0.12.10\n",
            "cached-property==1.5.2\n",
            "cachetools==4.2.4\n",
            "catalogue==1.0.0\n",
            "certifi==2021.10.8\n",
            "cffi==1.15.0\n",
            "cftime==1.6.0\n",
            "chardet==3.0.4\n",
            "charset-normalizer==2.0.12\n",
            "click==7.1.2\n",
            "cloudpickle==1.3.0\n",
            "cmake==3.12.0\n",
            "cmdstanpy==0.9.5\n",
            "colorcet==3.0.0\n",
            "colorlover==0.3.0\n",
            "community==1.0.0b1\n",
            "contextlib2==0.5.5\n",
            "convertdate==2.4.0\n",
            "coverage==3.7.1\n",
            "coveralls==0.5\n",
            "crcmod==1.7\n",
            "cufflinks==0.17.3\n",
            "cupy-cuda111==9.4.0\n",
            "cvxopt==1.2.7\n",
            "cvxpy==1.0.31\n",
            "cycler==0.11.0\n",
            "cymem==2.0.6\n",
            "Cython==0.29.28\n",
            "daft==0.0.4\n",
            "dask==2.12.0\n",
            "datascience==0.10.6\n",
            "debugpy==1.0.0\n",
            "decorator==4.4.2\n",
            "defusedxml==0.7.1\n",
            "descartes==1.1.0\n",
            "dill==0.3.4\n",
            "distributed==1.25.3\n",
            "dlib @ file:///dlib-19.18.0-cp37-cp37m-linux_x86_64.whl\n",
            "dm-tree==0.1.7\n",
            "docopt==0.6.2\n",
            "docutils==0.17.1\n",
            "dopamine-rl==1.0.5\n",
            "earthengine-api==0.1.305\n",
            "easydict==1.9\n",
            "ecos==2.0.10\n",
            "editdistance==0.5.3\n",
            "en-core-web-sm @ https://github.com/explosion/spacy-models/releases/download/en_core_web_sm-2.2.5/en_core_web_sm-2.2.5.tar.gz\n",
            "entrypoints==0.4\n",
            "ephem==4.1.3\n",
            "et-xmlfile==1.1.0\n",
            "fa2==0.3.5\n",
            "fastai==1.0.61\n",
            "fastdtw==0.3.4\n",
            "fastjsonschema==2.15.3\n",
            "fastprogress==1.0.2\n",
            "fastrlock==0.8\n",
            "fbprophet==0.7.1\n",
            "feather-format==0.4.1\n",
            "filelock==3.6.0\n",
            "firebase-admin==4.4.0\n",
            "fix-yahoo-finance==0.0.22\n",
            "Flask==1.1.4\n",
            "flatbuffers==2.0\n",
            "folium==0.8.3\n",
            "future==0.16.0\n",
            "gast==0.5.3\n",
            "GDAL==2.2.2\n",
            "gdown==4.4.0\n",
            "gensim==3.6.0\n",
            "geographiclib==1.52\n",
            "geopy==1.17.0\n",
            "gin-config==0.5.0\n",
            "glob2==0.7\n",
            "google==2.0.3\n",
            "google-api-core==1.31.5\n",
            "google-api-python-client==1.12.11\n",
            "google-auth==1.35.0\n",
            "google-auth-httplib2==0.0.4\n",
            "google-auth-oauthlib==0.4.6\n",
            "google-cloud-bigquery==1.21.0\n",
            "google-cloud-bigquery-storage==1.1.1\n",
            "google-cloud-core==1.0.3\n",
            "google-cloud-datastore==1.8.0\n",
            "google-cloud-firestore==1.7.0\n",
            "google-cloud-language==1.2.0\n",
            "google-cloud-storage==1.18.1\n",
            "google-cloud-translate==1.5.0\n",
            "google-colab @ file:///colabtools/dist/google-colab-1.0.0.tar.gz\n",
            "google-pasta==0.2.0\n",
            "google-resumable-media==0.4.1\n",
            "googleapis-common-protos==1.56.0\n",
            "googledrivedownloader==0.4\n",
            "graphviz==0.10.1\n",
            "greenlet==1.1.2\n",
            "grpcio==1.44.0\n",
            "gspread==3.4.2\n",
            "gspread-dataframe==3.0.8\n",
            "gym==0.17.3\n",
            "h5py==3.1.0\n",
            "HeapDict==1.0.1\n",
            "hijri-converter==2.2.3\n",
            "holidays==0.10.5.2\n",
            "holoviews==1.14.8\n",
            "html5lib==1.0.1\n",
            "httpimport==0.5.18\n",
            "httplib2==0.17.4\n",
            "httplib2shim==0.0.3\n",
            "humanize==0.5.1\n",
            "hyperopt==0.1.2\n",
            "ideep4py==2.0.0.post3\n",
            "idna==2.10\n",
            "imageio==2.4.1\n",
            "imagesize==1.3.0\n",
            "imbalanced-learn==0.8.1\n",
            "imblearn==0.0\n",
            "imgaug==0.2.9\n",
            "importlib-metadata==4.11.3\n",
            "importlib-resources==5.6.0\n",
            "imutils==0.5.4\n",
            "inflect==2.1.0\n",
            "iniconfig==1.1.1\n",
            "intel-openmp==2022.0.2\n",
            "intervaltree==2.1.0\n",
            "ipykernel==4.10.1\n",
            "ipython==5.5.0\n",
            "ipython-genutils==0.2.0\n",
            "ipython-sql==0.3.9\n",
            "ipywidgets==7.7.0\n",
            "itsdangerous==1.1.0\n",
            "jax==0.3.4\n",
            "jaxlib @ https://storage.googleapis.com/jax-releases/cuda11/jaxlib-0.3.2+cuda11.cudnn805-cp37-none-manylinux2010_x86_64.whl\n",
            "jedi==0.18.1\n",
            "jieba==0.42.1\n",
            "Jinja2==2.11.3\n",
            "joblib==1.1.0\n",
            "jpeg4py==0.1.4\n",
            "jsonschema==4.3.3\n",
            "jupyter==1.0.0\n",
            "jupyter-client==5.3.5\n",
            "jupyter-console==5.2.0\n",
            "jupyter-core==4.9.2\n",
            "jupyterlab-pygments==0.2.1\n",
            "jupyterlab-widgets==1.1.0\n",
            "kaggle==1.5.12\n",
            "kapre==0.3.7\n",
            "keras==2.8.0\n",
            "Keras-Preprocessing==1.1.2\n",
            "keras-vis==0.4.1\n",
            "kiwisolver==1.4.2\n",
            "korean-lunar-calendar==0.2.1\n",
            "libclang==13.0.0\n",
            "librosa==0.8.1\n",
            "lightgbm==2.2.3\n",
            "llvmlite==0.34.0\n",
            "lmdb==0.99\n",
            "LunarCalendar==0.0.9\n",
            "lxml==4.2.6\n",
            "Markdown==3.3.6\n",
            "MarkupSafe==2.0.1\n",
            "matplotlib==3.2.2\n",
            "matplotlib-inline==0.1.3\n",
            "matplotlib-venn==0.11.7\n",
            "missingno==0.5.1\n",
            "mistune==0.8.4\n",
            "mizani==0.6.0\n",
            "mkl==2019.0\n",
            "mlxtend==0.14.0\n",
            "more-itertools==8.12.0\n",
            "moviepy==0.2.3.5\n",
            "mpmath==1.2.1\n",
            "msgpack==1.0.3\n",
            "multiprocess==0.70.12.2\n",
            "multitasking==0.0.10\n",
            "murmurhash==1.0.6\n",
            "music21==5.5.0\n",
            "natsort==5.5.0\n",
            "nbclient==0.5.13\n",
            "nbconvert==5.6.1\n",
            "nbformat==5.3.0\n",
            "nest-asyncio==1.5.5\n",
            "netCDF4==1.5.8\n",
            "networkx==2.6.3\n",
            "nibabel==3.0.2\n",
            "nltk==3.2.5\n",
            "notebook==5.3.1\n",
            "numba==0.51.2\n",
            "numexpr==2.8.1\n",
            "numpy==1.21.5\n",
            "nvidia-ml-py3==7.352.0\n",
            "oauth2client==4.1.3\n",
            "oauthlib==3.2.0\n",
            "okgrade==0.4.3\n",
            "opencv-contrib-python==4.1.2.30\n",
            "opencv-python==4.1.2.30\n",
            "openpyxl==3.0.9\n",
            "opt-einsum==3.3.0\n",
            "osqp==0.6.2.post0\n",
            "packaging==21.3\n",
            "palettable==3.3.0\n",
            "pandas==1.3.5\n",
            "pandas-datareader==0.9.0\n",
            "pandas-gbq==0.13.3\n",
            "pandas-profiling==1.4.1\n",
            "pandocfilters==1.5.0\n",
            "panel==0.12.1\n",
            "param==1.12.1\n",
            "parso==0.8.3\n",
            "pathlib==1.0.1\n",
            "patsy==0.5.2\n",
            "pep517==0.12.0\n",
            "pexpect==4.8.0\n",
            "pickleshare==0.7.5\n",
            "Pillow==7.1.2\n",
            "pip-tools==6.2.0\n",
            "plac==1.1.3\n",
            "plotly==5.5.0\n",
            "plotnine==0.6.0\n",
            "pluggy==0.7.1\n",
            "pooch==1.6.0\n",
            "portpicker==1.3.9\n",
            "prefetch-generator==1.0.1\n",
            "preshed==3.0.6\n",
            "prettytable==3.2.0\n",
            "progressbar2==3.38.0\n",
            "prometheus-client==0.14.1\n",
            "promise==2.3\n",
            "prompt-toolkit==1.0.18\n",
            "protobuf==3.17.3\n",
            "psutil==5.4.8\n",
            "psycopg2==2.7.6.1\n",
            "ptyprocess==0.7.0\n",
            "py==1.11.0\n",
            "pyarrow==6.0.1\n",
            "pyasn1==0.4.8\n",
            "pyasn1-modules==0.2.8\n",
            "pycocotools==2.0.4\n",
            "pycparser==2.21\n",
            "pyct==0.4.8\n",
            "pydata-google-auth==1.4.0\n",
            "pydot==1.3.0\n",
            "pydot-ng==2.0.0\n",
            "pydotplus==2.0.2\n",
            "PyDrive==1.3.1\n",
            "pyemd==0.5.1\n",
            "pyerfa==2.0.0.1\n",
            "pyglet==1.5.0\n",
            "Pygments==2.6.1\n",
            "pygobject==3.26.1\n",
            "pymc3==3.11.4\n",
            "PyMeeus==0.5.11\n",
            "pymongo==4.1.0\n",
            "pymystem3==0.2.0\n",
            "PyOpenGL==3.1.6\n",
            "pyparsing==3.0.8\n",
            "pyrsistent==0.18.1\n",
            "pysndfile==1.3.8\n",
            "PySocks==1.7.1\n",
            "pystan==2.19.1.1\n",
            "pytest==3.6.4\n",
            "python-apt==0.0.0\n",
            "python-chess==0.23.11\n",
            "python-dateutil==2.8.2\n",
            "python-louvain==0.16\n",
            "python-slugify==6.1.1\n",
            "python-utils==3.1.0\n",
            "pytz==2018.9\n",
            "pyviz-comms==2.2.0\n",
            "PyWavelets==1.3.0\n",
            "PyYAML==3.13\n",
            "pyzmq==22.3.0\n",
            "qdldl==0.1.5.post2\n",
            "qtconsole==5.3.0\n",
            "QtPy==2.0.1\n",
            "regex==2019.12.20\n",
            "requests==2.23.0\n",
            "requests-oauthlib==1.3.1\n",
            "resampy==0.2.2\n",
            "rpy2==3.4.5\n",
            "rsa==4.8\n",
            "scikit-image==0.18.3\n",
            "scikit-learn==1.0.2\n",
            "scipy==1.4.1\n",
            "screen-resolution-extra==0.0.0\n",
            "scs==3.2.0\n",
            "seaborn==0.11.2\n",
            "semver==2.13.0\n",
            "Send2Trash==1.8.0\n",
            "setuptools-git==1.2\n",
            "Shapely==1.8.1.post1\n",
            "simplegeneric==0.8.1\n",
            "six==1.15.0\n",
            "sklearn==0.0\n",
            "sklearn-pandas==1.8.0\n",
            "smart-open==5.2.1\n",
            "snowballstemmer==2.2.0\n",
            "sortedcontainers==2.4.0\n",
            "SoundFile==0.10.3.post1\n",
            "soupsieve==2.3.2\n",
            "spacy==2.2.4\n",
            "Sphinx==1.8.6\n",
            "sphinxcontrib-serializinghtml==1.1.5\n",
            "sphinxcontrib-websupport==1.2.4\n",
            "SQLAlchemy==1.4.35\n",
            "sqlparse==0.4.2\n",
            "srsly==1.0.5\n",
            "statsmodels==0.10.2\n",
            "sympy==1.7.1\n",
            "tables==3.7.0\n",
            "tabulate==0.8.9\n",
            "tblib==1.7.0\n",
            "tenacity==8.0.1\n",
            "tensorboard==2.8.0\n",
            "tensorboard-data-server==0.6.1\n",
            "tensorboard-plugin-wit==1.8.1\n",
            "tensorflow @ file:///tensorflow-2.8.0-cp37-cp37m-linux_x86_64.whl\n",
            "tensorflow-datasets==4.0.1\n",
            "tensorflow-estimator==2.8.0\n",
            "tensorflow-gcs-config==2.8.0\n",
            "tensorflow-hub==0.12.0\n",
            "tensorflow-io-gcs-filesystem==0.24.0\n",
            "tensorflow-metadata==1.7.0\n",
            "tensorflow-probability==0.16.0\n",
            "termcolor==1.1.0\n",
            "terminado==0.13.3\n",
            "testpath==0.6.0\n",
            "text-unidecode==1.3\n",
            "textblob==0.15.3\n",
            "Theano-PyMC==1.1.2\n",
            "thinc==7.4.0\n",
            "threadpoolctl==3.1.0\n",
            "tifffile==2021.11.2\n",
            "tinycss2==1.1.1\n",
            "tomli==2.0.1\n",
            "toolz==0.11.2\n",
            "torch @ https://download.pytorch.org/whl/cu111/torch-1.10.0%2Bcu111-cp37-cp37m-linux_x86_64.whl\n",
            "torchaudio @ https://download.pytorch.org/whl/cu111/torchaudio-0.10.0%2Bcu111-cp37-cp37m-linux_x86_64.whl\n",
            "torchsummary==1.5.1\n",
            "torchtext==0.11.0\n",
            "torchvision @ https://download.pytorch.org/whl/cu111/torchvision-0.11.1%2Bcu111-cp37-cp37m-linux_x86_64.whl\n",
            "tornado==5.1.1\n",
            "tqdm==4.64.0\n",
            "traitlets==5.1.1\n",
            "tweepy==3.10.0\n",
            "typeguard==2.7.1\n",
            "typing-extensions==4.1.1\n",
            "tzlocal==1.5.1\n",
            "uritemplate==3.0.1\n",
            "urllib3==1.24.3\n",
            "vega-datasets==0.9.0\n",
            "wasabi==0.9.1\n",
            "wcwidth==0.2.5\n",
            "webencodings==0.5.1\n",
            "Werkzeug==1.0.1\n",
            "widgetsnbextension==3.6.0\n",
            "wordcloud==1.5.0\n",
            "wrapt==1.14.0\n",
            "xarray==0.18.2\n",
            "xgboost==0.90\n",
            "xkit==0.0.0\n",
            "xlrd==1.1.0\n",
            "xlwt==1.3.0\n",
            "yellowbrick==1.4\n",
            "zict==2.1.0\n",
            "zipp==3.8.0\n"
          ]
        }
      ],
      "source": [
        "!pip freeze"
      ]
    },
    {
      "cell_type": "code",
      "execution_count": null,
      "metadata": {
        "id": "S5L4fuZX8BlE"
      },
      "outputs": [],
      "source": []
    }
  ],
  "metadata": {
    "accelerator": "GPU",
    "colab": {
      "name": "fake_currency_detector.ipynb",
      "provenance": []
    },
    "kernelspec": {
      "display_name": "Python 3",
      "name": "python3"
    },
    "language_info": {
      "codemirror_mode": {
        "name": "ipython",
        "version": 3
      },
      "file_extension": ".py",
      "mimetype": "text/x-python",
      "name": "python",
      "nbconvert_exporter": "python",
      "pygments_lexer": "ipython3",
      "version": "3.9.7"
    }
  },
  "nbformat": 4,
  "nbformat_minor": 0
}
